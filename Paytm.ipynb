{
 "cells": [
  {
   "cell_type": "markdown",
   "metadata": {},
   "source": [
    "# Step 1 - Setting Up the Data\n",
    "## 1. Load the global weather data into your big data technology of choice.\n",
    "## 2. Join the stationlist.csv with the countrylist.csv to get the full country name for each station number.\n",
    "## 3. Join the global weather data with the full country names by station number."
   ]
  },
  {
   "cell_type": "code",
   "execution_count": 36,
   "metadata": {},
   "outputs": [],
   "source": [
    "from pyspark.sql import SparkSession\n",
    "from pyspark.sql.types import StructType,StructField, StringType, IntegerType,BooleanType,DoubleType\n",
    "spark = SparkSession.builder \\\n",
    "    .master(\"local[1]\") \\\n",
    "    .appName(\"PaytmWeatherChallenge\") \\\n",
    "    .getOrCreate()"
   ]
  },
  {
   "cell_type": "code",
   "execution_count": 94,
   "metadata": {},
   "outputs": [],
   "source": [
    "countries = spark.read.option(\"header\",True).csv(\"countrylist.csv\")\n",
    "stations = spark.read.option(\"header\",True).csv(\"stationlist.csv\")\n",
    "weather = spark.read.option(\"header\", True).csv(\"data/2019/*.gz\")\n",
    "# countries.show(5)\n",
    "# stations.show(5)\n",
    "# weather.show(5)"
   ]
  },
  {
   "cell_type": "code",
   "execution_count": 85,
   "metadata": {},
   "outputs": [],
   "source": [
    "stations_country = stations.join(countries,countries[\"COUNTRY_ABBR\"] ==  stations[\"COUNTRY_ABBR\"],\"left\")\\\n",
    ".select(\"STN_NO\", \"COUNTRY_FULL\", stations.COUNTRY_ABBR)\n",
    "\n",
    "global_weather = weather.join(stations_country, weather[\"STN---\"] == stations_country[\"STN_NO\"], \"inner\")"
   ]
  },
  {
   "cell_type": "code",
   "execution_count": null,
   "metadata": {},
   "outputs": [],
   "source": []
  },
  {
   "cell_type": "markdown",
   "metadata": {},
   "source": [
    "# Step 2 - Questions\n",
    "\n",
    "## 1. Which country had the hottest average mean temperature over the year?\n"
   ]
  },
  {
   "cell_type": "code",
   "execution_count": 65,
   "metadata": {},
   "outputs": [
    {
     "name": "stdout",
     "output_type": "stream",
     "text": [
      "+------------+\n",
      "|COUNTRY_FULL|\n",
      "+------------+\n",
      "|    DJIBOUTI|\n",
      "+------------+\n",
      "\n"
     ]
    }
   ],
   "source": [
    "from pyspark.sql import functions as F\n",
    "df1 = global_weather.groupBy(\"COUNTRY_FULL\").agg(F.mean('TEMP').alias('mean_TEMP')).orderBy(\"mean_TEMP\",ascending=False)\n",
    "df1 = df1.limit(1).select(\"COUNTRY_FULL\")\n",
    "df1.show()"
   ]
  },
  {
   "cell_type": "markdown",
   "metadata": {},
   "source": [
    "## 2. Which country had the most consecutive days of tornadoes/funnel cloud formations?"
   ]
  },
  {
   "cell_type": "code",
   "execution_count": 93,
   "metadata": {},
   "outputs": [],
   "source": [
    "from pyspark.sql.window import Window\n",
    "\n",
    "df2 = global_weather.select(\"YEARMODA\", \"FRSHTT\", \"COUNTRY_FULL\").orderBy(\"COUNTRY_FULL\",\"YEARMODA\")\n",
    "df2 = df2.na.drop()\n",
    "df2 = df2.withColumn('Tornado', F.substring(df2.FRSHTT, 6,1))\n",
    "w=Window.orderBy(F.lit(1))\n",
    "\n",
    "df2 = df2.withColumn(\"row_id\",F.row_number().over(w))\n",
    "df2 = df2.withColumn(\"date\", F.to_date(\"YEARMODA\", 'yyyyMMdd'))\n",
    "# df2 = df2.withColumn('substracted_dates',F.date_sub(df2.date,df2.row_id))\n",
    "# df2.show()\n"
   ]
  },
  {
   "cell_type": "markdown",
   "metadata": {},
   "source": [
    "## 3. Which country had the second highest average mean wind speed over the year?"
   ]
  },
  {
   "cell_type": "code",
   "execution_count": 64,
   "metadata": {},
   "outputs": [
    {
     "name": "stdout",
     "output_type": "stream",
     "text": [
      "+------------+\n",
      "|COUNTRY_FULL|\n",
      "+------------+\n",
      "|     ARMENIA|\n",
      "+------------+\n",
      "\n"
     ]
    }
   ],
   "source": [
    "df3 = global_weather.groupBy(\"COUNTRY_FULL\").agg(F.mean('WDSP').alias('mean_WDSP')).orderBy(\"mean_WDSP\",ascending=False)\n",
    "df3 = df3.limit(2).orderBy(\"mean_WDSP\").limit(1).select(\"COUNTRY_FULL\")\n",
    "df3.show()\n"
   ]
  },
  {
   "cell_type": "code",
   "execution_count": null,
   "metadata": {},
   "outputs": [],
   "source": []
  },
  {
   "cell_type": "code",
   "execution_count": null,
   "metadata": {},
   "outputs": [],
   "source": []
  }
 ],
 "metadata": {
  "kernelspec": {
   "display_name": "Python 3",
   "language": "python",
   "name": "python3"
  },
  "language_info": {
   "codemirror_mode": {
    "name": "ipython",
    "version": 3
   },
   "file_extension": ".py",
   "mimetype": "text/x-python",
   "name": "python",
   "nbconvert_exporter": "python",
   "pygments_lexer": "ipython3",
   "version": "3.8.5"
  }
 },
 "nbformat": 4,
 "nbformat_minor": 4
}
